{
 "cells": [
  {
   "cell_type": "code",
   "execution_count": 11,
   "id": "9024c99c-4c1b-443a-b415-0789305cb957",
   "metadata": {
    "editable": true,
    "slideshow": {
     "slide_type": ""
    },
    "tags": []
   },
   "outputs": [
    {
     "name": "stdout",
     "output_type": "stream",
     "text": [
      "\u001b]777;preexec\u001b\\"
     ]
    }
   ],
   "source": [
    "# Don't mind me, just making bash_kernel work\n",
    "unset PS0"
   ]
  },
  {
   "cell_type": "markdown",
   "id": "c8facfdd-9aea-4068-90f6-c3e073ce07a1",
   "metadata": {},
   "source": [
    "# Python: The Boring Parts"
   ]
  },
  {
   "cell_type": "markdown",
   "id": "46890a93-abb8-4e2f-8b78-22d98070ac15",
   "metadata": {},
   "source": [
    "## What is Python?\n",
    "\n",
    "- A **language**: the syntax\n",
    "- A **program**: the Python Interpreter\n",
    "- A **standard library**: packages that Python itself provides with every installation\n",
    "- An **ecosystem**: all of the libraries that have been created for Python"
   ]
  },
  {
   "cell_type": "markdown",
   "id": "17496b3d-1d25-49e6-ad3d-d5bd427d41ce",
   "metadata": {},
   "source": [
    "### Python Language\n",
    "\n",
    "The **syntax** used to tell the Python Interpreter what to do\n",
    "\n",
    "\n",
    "Python Interpreter, please print \"Hello World\" to `stdout`:\n",
    "\n",
    "```python\n",
    "print(\"Hello, world!\")\n",
    "```"
   ]
  },
  {
   "cell_type": "markdown",
   "id": "350e48bb-5b79-4abe-ad7b-b67f15950420",
   "metadata": {},
   "source": [
    "### Python Interpreter\n",
    "\n",
    "The Python Interpreter reads in a set of commands written in the Python Language, and executes them\n",
    "\n",
    "#### Interactive Use\n",
    "```\n",
    "# Open an interactive shell\n",
    "$ python\n",
    ">>> print(\"Hello, world!\")\n",
    "Hello, world!\n",
    "```"
   ]
  },
  {
   "cell_type": "markdown",
   "id": "b2506764-3038-4dce-ba76-3ffe2b5b2edc",
   "metadata": {},
   "source": [
    "#### Command Line Interface\n",
    "```\n",
    "# Execute from command line\n",
    "python -c 'print(\"Hello, world!\")'\n",
    "Hello, world!\n",
    "```"
   ]
  },
  {
   "cell_type": "markdown",
   "id": "e3084807-3103-4990-8104-3bed34eb0779",
   "metadata": {},
   "source": [
    "#### Execution of a File\n",
    "\n",
    "Consider a file named `hello_word.py`, with the following contents:\n",
    "\n",
    "```py\n",
    "print(\"Hello, world!\")\n",
    "```"
   ]
  },
  {
   "cell_type": "code",
   "execution_count": null,
   "id": "cf379a29-0467-4cef-85de-23966af4135e",
   "metadata": {},
   "outputs": [],
   "source": [
    "# Create the file itself\n",
    "echo 'print(\"Hello, world!\")' > /tmp/hello_world.py"
   ]
  },
  {
   "cell_type": "code",
   "execution_count": 5,
   "id": "53bce13c-46d4-43a9-9d07-37d2223ee769",
   "metadata": {},
   "outputs": [
    {
     "name": "stdout",
     "output_type": "stream",
     "text": [
      "print(\"Hello, world!\")\n"
     ]
    }
   ],
   "source": [
    "# Verify its contents\n",
    "cat /tmp/hello_world.py"
   ]
  },
  {
   "cell_type": "code",
   "execution_count": 7,
   "id": "6dc7e0d6-796e-46ed-903e-bf87012aaa54",
   "metadata": {},
   "outputs": [
    {
     "name": "stdout",
     "output_type": "stream",
     "text": [
      "Hello, world!\n"
     ]
    }
   ],
   "source": [
    "# Execute `hello_world.py` using a Python Interpreter\n",
    "python /tmp/hello_world.py"
   ]
  },
  {
   "cell_type": "markdown",
   "id": "3b60f579-8e1c-46b8-8f31-d762aad74b58",
   "metadata": {},
   "source": [
    "## What is a Python Environment?\n",
    "\n",
    "The context in which a Python script/application executes is called the *environment*, and it includes several things:\n",
    "\n",
    "- Your Operating System\n",
    "- Your Python Interpreter version\n",
    "- Your shell version\n",
    "- Your shell's environment\n",
    "- Your Python installation's available packages"
   ]
  },
  {
   "cell_type": "markdown",
   "id": "42fb7743-24e5-49c7-a58b-de439877ebfb",
   "metadata": {
    "editable": true,
    "slideshow": {
     "slide_type": ""
    },
    "tags": []
   },
   "source": [
    "The environment is _hierarchical_: each sub-item exists within/inherits from its parents\n",
    "\n",
    "```mermaid\n",
    "flowchart TD\n",
    "\n",
    "subgraph os[\"Operating System\"]\n",
    "\n",
    "    subgraph python_env[Python Environment]\n",
    "\n",
    "        \n",
    "        subgraph shell[Shell Environment]\n",
    "            stdlib[Standard Library]\n",
    "            third_party[Third-Party Packages]\n",
    "            your_code[/Your Code/]\n",
    "            \n",
    "            stdlib-->|import|your_code\n",
    "            stdlib-->|import|third_party\n",
    "            third_party-->|import|your_code\n",
    "    \n",
    "        end\n",
    "    end\n",
    "\n",
    "end\n",
    "```"
   ]
  },
  {
   "cell_type": "markdown",
   "id": "b195b0ba-a860-4bf2-b82f-14bea1081d77",
   "metadata": {},
   "source": [
    "```mermaid\n",
    "\n",
    "flowchart LR\n",
    "\n",
    "os[\"OS (RHEL8)\"]\n",
    "\n",
    "subgraph python39[<code>/opt/local/bin/python3.9</code>]\n",
    "    astropy_39[<code>astropy</code>]\n",
    "    numpy_39[<code>numpy</code>]\n",
    "    scipy_39[<code>scipy</code>]\n",
    "end\n",
    "subgraph python311[<code>/opt/local/bin/python3.11</code>]\n",
    "    astropy_311[<code>astropy</code>]\n",
    "    numpy_311[<code>numpy</code>]\n",
    "end\n",
    "os-->python39\n",
    "os-->python311\n",
    "\n"
   ]
  },
  {
   "cell_type": "markdown",
   "id": "5f1d6e3b-774e-40a8-8ffd-88b9b691ae7f",
   "metadata": {
    "jp-MarkdownHeadingCollapsed": true
   },
   "source": [
    "### The GBO Environment(s)\n",
    "\n",
    "- Operating System: Red Hat Enterprise Linux 8 (RHEL 8)\n",
    "- Python: Python 3.11\n",
    "- Shell: bash\n",
    "- Shell environment: up to you, but also not?\n",
    "- Python packages: common astro packages are provided for you, others"
   ]
  },
  {
   "cell_type": "markdown",
   "id": "f0515762-a68a-4449-aad5-6c2699f64222",
   "metadata": {},
   "source": [
    "### Which Python?\n",
    "\n",
    "What is the output of these command?\n",
    "\n",
    "```sh\n",
    "$ python --version\n",
    "$ which python\n",
    "```"
   ]
  },
  {
   "cell_type": "code",
   "execution_count": 14,
   "id": "47330621-bc57-4acf-8e35-d0acd4a11983",
   "metadata": {},
   "outputs": [
    {
     "name": "stdout",
     "output_type": "stream",
     "text": [
      "Python 3.11.0\n"
     ]
    }
   ],
   "source": [
    "# What version of Python am I running?\n",
    "python --version"
   ]
  },
  {
   "cell_type": "code",
   "execution_count": 15,
   "id": "d8171f08-87d7-47b9-b6c0-fcc9abb49183",
   "metadata": {
    "editable": true,
    "slideshow": {
     "slide_type": ""
    },
    "tags": []
   },
   "outputs": [
    {
     "name": "stdout",
     "output_type": "stream",
     "text": [
      "~/venvs/alda-3.11/bin/python\n"
     ]
    }
   ],
   "source": [
    "# What is the path of my Python Interpreter?\n",
    "which python"
   ]
  },
  {
   "cell_type": "markdown",
   "id": "eef927ad-bdb8-4d5b-8c51-e394510fd400",
   "metadata": {},
   "source": [
    "### A Concrete Example\n",
    "\n",
    "What happens when you run this command?"
   ]
  },
  {
   "cell_type": "code",
   "execution_count": null,
   "id": "b82c7fa1-2ad7-4fa4-8dab-ac12b218e26d",
   "metadata": {
    "editable": true,
    "slideshow": {
     "slide_type": ""
    },
    "tags": []
   },
   "outputs": [],
   "source": []
  },
  {
   "cell_type": "code",
   "execution_count": 12,
   "id": "377845f7-398c-4780-a62f-3955e70f0582",
   "metadata": {
    "editable": true,
    "slideshow": {
     "slide_type": ""
    },
    "tags": []
   },
   "outputs": [
    {
     "name": "stdout",
     "output_type": "stream",
     "text": [
      "6.0.1\n"
     ]
    }
   ],
   "source": [
    "python -c 'import astropy; print(f\"{astropy.__version__}\")'"
   ]
  },
  {
   "cell_type": "code",
   "execution_count": 12,
   "id": "a382fbad-1b3e-455c-b6b8-1ac439602522",
   "metadata": {
    "editable": true,
    "slideshow": {
     "slide_type": ""
    },
    "tags": []
   },
   "outputs": [
    {
     "name": "stdout",
     "output_type": "stream",
     "text": [
      "0.3048 m / s\n"
     ]
    }
   ],
   "source": [
    "python -c 'import astropy.units as u\n",
    "print(f\"{(1 * u.imperial.ft / u.s).to(u.m / u.s)}\")'"
   ]
  },
  {
   "cell_type": "markdown",
   "id": "df68b150-b62f-4637-a252-88c76e963399",
   "metadata": {
    "editable": true,
    "slideshow": {
     "slide_type": ""
    },
    "tags": []
   },
   "source": [
    "## Pitfall #: Package names aren't reserved\n",
    "\n",
    "A package only has an \"official\" name in a given _context_. In the _vast majority of cases_, when someone is talking about `astropy`, they are talking about \"the `astropy` package provided by the Astropy organization via PyPI\". It can be installed via:\n",
    "\n",
    "```sh\n",
    "pip install astropy\n",
    "```\n",
    "\n",
    "But there's _no guarantee_ that same package is being imported here:\n",
    "\n",
    "```py\n",
    "import astropy\n",
    "```"
   ]
  },
  {
   "cell_type": "code",
   "execution_count": 16,
   "id": "29c888bc-2c0a-4b84-9402-002e7ea58c7c",
   "metadata": {
    "editable": true,
    "slideshow": {
     "slide_type": ""
    },
    "tags": []
   },
   "outputs": [
    {
     "name": "stdout",
     "output_type": "stream",
     "text": [
      "/home/tchamber/venvs/alda-3.11/lib/python3.11/site-packages/astropy/__init__.py\n"
     ]
    }
   ],
   "source": [
    "python -c '\n",
    "import astropy\n",
    "print(astropy.__file__)'"
   ]
  },
  {
   "cell_type": "markdown",
   "id": "aba5be0d-498f-4ce3-b67f-73b47f951516",
   "metadata": {
    "editable": true,
    "slideshow": {
     "slide_type": ""
    },
    "tags": []
   },
   "source": [
    "How to avoid? **Don't shadow popular package names**!\n",
    "\n",
    "i.e. **never** name a file `astropy.py`, `numpy.py`, etc."
   ]
  },
  {
   "cell_type": "code",
   "execution_count": null,
   "id": "86d2533c-dadc-4e58-aec2-88ee840a925e",
   "metadata": {
    "editable": true,
    "slideshow": {
     "slide_type": ""
    },
    "tags": []
   },
   "outputs": [
    {
     "name": "stdout",
     "output_type": "stream",
     "text": [
      "bash: conda: command not found...\n"
     ]
    }
   ],
   "source": [
    "conda create -n \"py_env_talk_2024\" 'python<3.13'"
   ]
  }
 ],
 "metadata": {
  "kernelspec": {
   "display_name": "Bash",
   "language": "bash",
   "name": "bash"
  },
  "language_info": {
   "codemirror_mode": "shell",
   "file_extension": ".sh",
   "mimetype": "text/x-sh",
   "name": "bash"
  }
 },
 "nbformat": 4,
 "nbformat_minor": 5
}
